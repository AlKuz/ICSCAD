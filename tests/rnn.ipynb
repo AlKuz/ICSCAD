{
 "cells": [
  {
   "cell_type": "code",
   "execution_count": 27,
   "metadata": {
    "collapsed": true
   },
   "outputs": [],
   "source": [
    "# Import Libraries\n",
    "import tensorflow as tf\n",
    "import pandas as pd\n",
    "import numpy as np\n",
    "import matplotlib.pyplot as plt\n",
    "import random\n",
    "%matplotlib inline"
   ]
  },
  {
   "cell_type": "code",
   "execution_count": 51,
   "metadata": {},
   "outputs": [
    {
     "data": {
      "image/png": "[encoded data removed]",
      "text/plain": [
       "<Figure size 432x288 with 1 Axes>"
      ]
     },
     "metadata": {},
     "output_type": "display_data"
    },
    {
     "data": {
      "text/plain": [
       "1800-01-31    0.722158\n1800-02-28    2.955118\n1800-03-31   -2.093415\n1800-04-30    3.056400\n1800-05-31    6.329118\n1800-06-30    3.359891\n1800-07-31    5.821630\n1800-08-31    1.479063\n1800-09-30    5.130279\n1800-10-31   -0.600861\nFreq: M, dtype: float64"
      ]
     },
     "execution_count": 51,
     "metadata": {},
     "output_type": "execute_result"
    }
   ],
   "source": [
    "# Generate data\n",
    "random.seed(111)\n",
    "rng = pd.date_range(start='1800', periods=3001, freq='M')\n",
    "ts = pd.Series(np.random.uniform(-10, 10, size=len(rng)), rng).cumsum()\n",
    "ts.plot(c='b', title='Example Time Series')\n",
    "plt.show()\n",
    "ts.head(10)"
   ]
  },
  {
   "cell_type": "code",
   "execution_count": 59,
   "metadata": {},
   "outputs": [
    {
     "name": "stdout",
     "output_type": "stream",
     "text": [
      "60\n(60, 50, 1)\n[[[ 7.22157674e-01]\n  [ 2.95511846e+00]\n  [-2.09341532e+00]\n  [ 3.05639957e+00]\n  [ 6.32911834e+00]\n  [ 3.35989052e+00]\n  [ 5.82163033e+00]\n  [ 1.47906281e+00]\n  [ 5.13027941e+00]\n  [-6.00860871e-01]\n  [-9.95809171e+00]\n  [-7.47040208e+00]\n  [-1.30803913e+01]\n  [-1.67671337e+01]\n  [-1.14829268e+01]\n  [-9.33806858e+00]\n  [-1.39968414e+01]\n  [-5.58029226e+00]\n  [-1.20930616e+01]\n  [-4.15339533e+00]\n  [-8.10786354e+00]\n  [-1.37016194e+01]\n  [-4.59940608e+00]\n  [-2.09305127e+00]\n  [-1.07937515e+01]\n  [-1.95691556e+01]\n  [-1.63937544e+01]\n  [-1.68996609e+01]\n  [-1.37788500e+01]\n  [-3.82219367e+00]\n  [ 6.16798647e+00]\n  [ 1.57938464e+01]\n  [ 2.20521416e+01]\n  [ 2.11370058e+01]\n  [ 1.76350954e+01]\n  [ 2.06903833e+01]\n  [ 1.40812025e+01]\n  [ 1.42501036e+01]\n  [ 5.23381201e+00]\n  [ 6.21185749e+00]\n  [-1.48360026e+00]\n  [-1.35318564e-02]\n  [-2.87795363e+00]\n  [ 6.52486580e+00]\n  [ 8.34684084e+00]\n  [ 9.60260659e-01]\n  [-6.50199011e+00]\n  [-9.47400400e+00]\n  [-7.90598018e+00]\n  [-4.81463532e+00]]\n\n [[ 2.40032991e-01]\n  [ 9.67812104e+00]\n  [ 4.12518184e+00]\n  [ 1.22396590e+01]\n  [ 1.99811508e+01]\n  [ 1.04957327e+01]\n  [ 8.09633654e+00]\n  [ 1.61052558e+01]\n  [ 1.32770141e+01]\n  [ 2.06214459e+01]\n  [ 2.05361613e+01]\n  [ 2.28162914e+01]\n  [ 2.56952948e+01]\n  [ 2.84598586e+01]\n  [ 2.84398485e+01]\n  [ 2.28490295e+01]\n  [ 1.98381346e+01]\n  [ 1.86033164e+01]\n  [ 1.82175432e+01]\n  [ 2.55962290e+01]\n  [ 1.63345287e+01]\n  [ 2.14288923e+01]\n  [ 2.75031956e+01]\n  [ 2.93938647e+01]\n  [ 3.68989213e+01]\n  [ 3.42793220e+01]\n  [ 4.12785720e+01]\n  [ 3.16366913e+01]\n  [ 3.94040570e+01]\n  [ 3.97380196e+01]\n  [ 3.65744819e+01]\n  [ 4.39548654e+01]\n  [ 5.18135710e+01]\n  [ 4.63432200e+01]\n  [ 5.48359838e+01]\n  [ 6.40263258e+01]\n  [ 6.51236356e+01]\n  [ 7.27259128e+01]\n  [ 7.50331947e+01]\n  [ 8.48892362e+01]\n  [ 7.77180628e+01]\n  [ 7.66909164e+01]\n  [ 7.47620939e+01]\n  [ 6.67534508e+01]\n  [ 6.39687946e+01]\n  [ 6.69850541e+01]\n  [ 7.14849101e+01]\n  [ 7.94893935e+01]\n  [ 7.40954933e+01]\n  [ 6.83499903e+01]]]\n[[[ 2.95511846e+00]\n  [-2.09341532e+00]\n  [ 3.05639957e+00]\n  [ 6.32911834e+00]\n  [ 3.35989052e+00]\n  [ 5.82163033e+00]\n  [ 1.47906281e+00]\n  [ 5.13027941e+00]\n  [-6.00860871e-01]\n  [-9.95809171e+00]\n  [-7.47040208e+00]\n  [-1.30803913e+01]\n  [-1.67671337e+01]\n  [-1.14829268e+01]\n  [-9.33806858e+00]\n  [-1.39968414e+01]\n  [-5.58029226e+00]\n  [-1.20930616e+01]\n  [-4.15339533e+00]\n  [-8.10786354e+00]\n  [-1.37016194e+01]\n  [-4.59940608e+00]\n  [-2.09305127e+00]\n  [-1.07937515e+01]\n  [-1.95691556e+01]\n  [-1.63937544e+01]\n  [-1.68996609e+01]\n  [-1.37788500e+01]\n  [-3.82219367e+00]\n  [ 6.16798647e+00]\n  [ 1.57938464e+01]\n  [ 2.20521416e+01]\n  [ 2.11370058e+01]\n  [ 1.76350954e+01]\n  [ 2.06903833e+01]\n  [ 1.40812025e+01]\n  [ 1.42501036e+01]\n  [ 5.23381201e+00]\n  [ 6.21185749e+00]\n  [-1.48360026e+00]\n  [-1.35318564e-02]\n  [-2.87795363e+00]\n  [ 6.52486580e+00]\n  [ 8.34684084e+00]\n  [ 9.60260659e-01]\n  [-6.50199011e+00]\n  [-9.47400400e+00]\n  [-7.90598018e+00]\n  [-4.81463532e+00]\n  [ 2.40032991e-01]]]\n(60, 50, 1)\n"
     ]
    }
   ],
   "source": [
    "# Convert data into array\n",
    "TS = np.array(ts)\n",
    "num_periods = 50\n",
    "f_horizon = 1  # forecast horizon, one period into the future (output???)\n",
    "\n",
    "x_data = TS[:(len(TS)-(len(TS) % num_periods))]\n",
    "x_batches = x_data.reshape(-1, num_periods, f_horizon)\n",
    "\n",
    "y_data = TS[1:(len(TS)-(len(TS) % num_periods))+f_horizon]\n",
    "y_batches = y_data.reshape(-1, num_periods, f_horizon)\n",
    "print(len(x_batches))\n",
    "print(x_batches.shape)\n",
    "print(x_batches[0:2])\n",
    "\n",
    "print(y_batches[0:1])\n",
    "print(y_batches.shape)"
   ]
  },
  {
   "cell_type": "code",
   "execution_count": 60,
   "metadata": {},
   "outputs": [
    {
     "name": "stdout",
     "output_type": "stream",
     "text": [
      "(1, 50, 1)\n[[[ 48.27857983]\n  [ 56.92065127]\n  [ 49.41354444]\n  [ 40.52563196]\n  [ 39.98975857]\n  [ 43.16009609]\n  [ 50.71854901]\n  [ 41.83751784]\n  [ 37.61857682]\n  [ 38.8608381 ]\n  [ 37.76767478]\n  [ 29.0100616 ]\n  [ 28.40770814]\n  [ 20.31196011]\n  [ 12.80584155]\n  [  3.18748499]\n  [  0.80480057]\n  [  0.89643077]\n  [  7.70355003]\n  [  1.94023589]\n  [ -5.92658255]\n  [ -5.9725987 ]\n  [-13.53952373]\n  [ -9.08700022]\n  [-16.04278614]\n  [ -6.74788175]\n  [-13.88063551]\n  [ -9.57447524]\n  [ -1.17791433]\n  [  1.21523493]\n  [  4.93697903]\n  [  4.71916931]\n  [  3.2222296 ]\n  [ -6.67594145]\n  [  2.95878257]\n  [  6.09480822]\n  [ 11.43250126]\n  [  6.13617192]\n  [ 11.80972206]\n  [  7.04331154]\n  [ 13.66830065]\n  [  9.99102509]\n  [ 11.39806255]\n  [  1.43674614]\n  [ -3.0002645 ]\n  [-12.79110289]\n  [-12.20102624]\n  [-12.41366804]\n  [-20.44729496]\n  [-28.74843243]]]\n"
     ]
    }
   ],
   "source": [
    "def test_data(series, forecast, num_periods):\n",
    "    test_x_setup = series[-(num_periods + forecast):]\n",
    "    testX = test_x_setup[:num_periods].reshape(-1, num_periods, 1)\n",
    "    testY = series[-(num_periods):].reshape(-1, num_periods, 1)\n",
    "    return testX, testY\n",
    "\n",
    "\n",
    "X_test, Y_test = test_data(TS, f_horizon, num_periods)\n",
    "print(X_test.shape)\n",
    "print(X_test)"
   ]
  },
  {
   "cell_type": "code",
   "execution_count": 63,
   "metadata": {},
   "outputs": [],
   "source": [
    "tf.reset_default_graph()\n",
    "\n",
    "num_periods = 50\n",
    "inputs = 1\n",
    "hidden = 100\n",
    "output = 1\n",
    "\n",
    "x = tf.placeholder(tf.float32, [None, num_periods, inputs])\n",
    "y = tf.placeholder(tf.float32, [None, num_periods, output])\n",
    "\n",
    "basic_cell = tf.contrib.rnn.BasicRNNCell(num_units=hidden, activation=tf.nn.relu)\n",
    "rnn_output, states = tf.nn.dynamic_rnn(basic_cell, x, dtype=tf.float32)\n",
    "\n",
    "learning_rate = 0.001\n",
    "\n",
    "stacked_rnn_output = tf.reshape(rnn_output, [-1, hidden])\n",
    "stacked_outputs = tf.layers.dense(stacked_rnn_output, output)\n",
    "outputs = tf.reshape(stacked_outputs, [-1, num_periods, output])\n",
    "\n",
    "loss = tf.reduce_sum(tf.square(outputs - y))\n",
    "optimizer = tf.train.AdamOptimizer(learning_rate=learning_rate)\n",
    "training_op = optimizer.minimize(loss)\n",
    "\n",
    "init = tf.global_variables_initializer()"
   ]
  },
  {
   "cell_type": "code",
   "execution_count": 64,
   "metadata": {},
   "outputs": [
    {
     "name": "stdout",
     "output_type": "stream",
     "text": [
      "0 \tMSE: 86909200.0\n"
     ]
    },
    {
     "name": "stdout",
     "output_type": "stream",
     "text": [
      "100 \tMSE: 1351028.9\n"
     ]
    },
    {
     "name": "stdout",
     "output_type": "stream",
     "text": [
      "200 \tMSE: 773802.75\n"
     ]
    },
    {
     "name": "stdout",
     "output_type": "stream",
     "text": [
      "300 \tMSE: 347184.75\n"
     ]
    },
    {
     "name": "stdout",
     "output_type": "stream",
     "text": [
      "400 \tMSE: 145639.58\n"
     ]
    },
    {
     "name": "stdout",
     "output_type": "stream",
     "text": [
      "500 \tMSE: 103393.61\n"
     ]
    },
    {
     "name": "stdout",
     "output_type": "stream",
     "text": [
      "600 \tMSE: 97598.58\n"
     ]
    },
    {
     "name": "stdout",
     "output_type": "stream",
     "text": [
      "700 \tMSE: 94384.19\n"
     ]
    },
    {
     "name": "stdout",
     "output_type": "stream",
     "text": [
      "800 \tMSE: 92934.86\n"
     ]
    },
    {
     "name": "stdout",
     "output_type": "stream",
     "text": [
      "900 \tMSE: 90867.914\n"
     ]
    },
    {
     "name": "stdout",
     "output_type": "stream",
     "text": [
      "1000 \tMSE: 88943.66\n"
     ]
    },
    {
     "name": "stdout",
     "output_type": "stream",
     "text": [
      "1100 \tMSE: 87484.805\n"
     ]
    },
    {
     "name": "stdout",
     "output_type": "stream",
     "text": [
      "1200 \tMSE: 89522.86\n"
     ]
    },
    {
     "name": "stdout",
     "output_type": "stream",
     "text": [
      "1300 \tMSE: 85184.07\n"
     ]
    },
    {
     "name": "stdout",
     "output_type": "stream",
     "text": [
      "1400 \tMSE: 83685.805\n"
     ]
    },
    {
     "name": "stdout",
     "output_type": "stream",
     "text": [
      "1500 \tMSE: 82707.56\n"
     ]
    },
    {
     "name": "stdout",
     "output_type": "stream",
     "text": [
      "1600 \tMSE: 81513.234\n"
     ]
    },
    {
     "name": "stdout",
     "output_type": "stream",
     "text": [
      "1700 \tMSE: 79985.98\n"
     ]
    },
    {
     "name": "stdout",
     "output_type": "stream",
     "text": [
      "1800 \tMSE: 78743.85\n"
     ]
    },
    {
     "name": "stdout",
     "output_type": "stream",
     "text": [
      "1900 \tMSE: 78273.35\n"
     ]
    },
    {
     "name": "stdout",
     "output_type": "stream",
     "text": [
      "2000 \tMSE: 77535.92\n"
     ]
    },
    {
     "name": "stdout",
     "output_type": "stream",
     "text": [
      "2100 \tMSE: 75777.28\n"
     ]
    },
    {
     "name": "stdout",
     "output_type": "stream",
     "text": [
      "2200 \tMSE: 74863.47\n"
     ]
    },
    {
     "name": "stdout",
     "output_type": "stream",
     "text": [
      "2300 \tMSE: 74903.25\n"
     ]
    },
    {
     "name": "stdout",
     "output_type": "stream",
     "text": [
      "2400 \tMSE: 74049.914\n"
     ]
    },
    {
     "name": "stdout",
     "output_type": "stream",
     "text": [
      "2500 \tMSE: 72433.266\n"
     ]
    },
    {
     "name": "stdout",
     "output_type": "stream",
     "text": [
      "2600 \tMSE: 72009.055\n"
     ]
    },
    {
     "name": "stdout",
     "output_type": "stream",
     "text": [
      "2700 \tMSE: 74518.92\n"
     ]
    },
    {
     "name": "stdout",
     "output_type": "stream",
     "text": [
      "2800 \tMSE: 71446.18\n"
     ]
    },
    {
     "name": "stdout",
     "output_type": "stream",
     "text": [
      "2900 \tMSE: 69527.36\n"
     ]
    },
    {
     "name": "stdout",
     "output_type": "stream",
     "text": [
      "3000 \tMSE: 69511.47\n"
     ]
    },
    {
     "name": "stdout",
     "output_type": "stream",
     "text": [
      "3100 \tMSE: 68388.18\n"
     ]
    },
    {
     "name": "stdout",
     "output_type": "stream",
     "text": [
      "3200 \tMSE: 67272.05\n"
     ]
    },
    {
     "name": "stdout",
     "output_type": "stream",
     "text": [
      "3300 \tMSE: 66998.7\n"
     ]
    },
    {
     "name": "stdout",
     "output_type": "stream",
     "text": [
      "3400 \tMSE: 66840.12\n"
     ]
    },
    {
     "name": "stdout",
     "output_type": "stream",
     "text": [
      "3500 \tMSE: 66141.07\n"
     ]
    },
    {
     "name": "stdout",
     "output_type": "stream",
     "text": [
      "3600 \tMSE: 65642.336\n"
     ]
    },
    {
     "name": "stdout",
     "output_type": "stream",
     "text": [
      "3700 \tMSE: 65493.773\n"
     ]
    },
    {
     "name": "stdout",
     "output_type": "stream",
     "text": [
      "3800 \tMSE: 64197.293\n"
     ]
    },
    {
     "name": "stdout",
     "output_type": "stream",
     "text": [
      "3900 \tMSE: 64525.89\n"
     ]
    },
    {
     "name": "stdout",
     "output_type": "stream",
     "text": [
      "4000 \tMSE: 64532.65\n"
     ]
    },
    {
     "name": "stdout",
     "output_type": "stream",
     "text": [
      "4100 \tMSE: 71612.98\n"
     ]
    },
    {
     "name": "stdout",
     "output_type": "stream",
     "text": [
      "4200 \tMSE: 62849.766\n"
     ]
    },
    {
     "name": "stdout",
     "output_type": "stream",
     "text": [
      "4300 \tMSE: 66139.06\n"
     ]
    },
    {
     "name": "stdout",
     "output_type": "stream",
     "text": [
      "4400 \tMSE: 65263.08\n"
     ]
    },
    {
     "name": "stdout",
     "output_type": "stream",
     "text": [
      "4500 \tMSE: 65083.07\n"
     ]
    },
    {
     "name": "stdout",
     "output_type": "stream",
     "text": [
      "4600 \tMSE: 64486.535\n"
     ]
    },
    {
     "name": "stdout",
     "output_type": "stream",
     "text": [
      "4700 \tMSE: 62204.39\n"
     ]
    },
    {
     "name": "stdout",
     "output_type": "stream",
     "text": [
      "4800 \tMSE: 60583.32\n"
     ]
    },
    {
     "name": "stdout",
     "output_type": "stream",
     "text": [
      "4900 \tMSE: 62831.383\n"
     ]
    },
    {
     "name": "stdout",
     "output_type": "stream",
     "text": [
      "5000 \tMSE: 62103.562\n"
     ]
    },
    {
     "name": "stdout",
     "output_type": "stream",
     "text": [
      "5100 \tMSE: 60182.445\n"
     ]
    },
    {
     "name": "stdout",
     "output_type": "stream",
     "text": [
      "5200 \tMSE: 61078.035\n"
     ]
    },
    {
     "name": "stdout",
     "output_type": "stream",
     "text": [
      "5300 \tMSE: 68619.0\n"
     ]
    },
    {
     "name": "stdout",
     "output_type": "stream",
     "text": [
      "5400 \tMSE: 59433.0\n"
     ]
    },
    {
     "name": "stdout",
     "output_type": "stream",
     "text": [
      "5500 \tMSE: 71249.65\n"
     ]
    },
    {
     "name": "stdout",
     "output_type": "stream",
     "text": [
      "5600 \tMSE: 64506.4\n"
     ]
    },
    {
     "name": "stdout",
     "output_type": "stream",
     "text": [
      "5700 \tMSE: 59159.387\n"
     ]
    },
    {
     "name": "stdout",
     "output_type": "stream",
     "text": [
      "5800 \tMSE: 57990.58\n"
     ]
    },
    {
     "name": "stdout",
     "output_type": "stream",
     "text": [
      "5900 \tMSE: 57745.633\n"
     ]
    },
    {
     "name": "stdout",
     "output_type": "stream",
     "text": [
      "6000 \tMSE: 61874.12\n"
     ]
    },
    {
     "name": "stdout",
     "output_type": "stream",
     "text": [
      "6100 \tMSE: 58853.523\n"
     ]
    },
    {
     "name": "stdout",
     "output_type": "stream",
     "text": [
      "6200 \tMSE: 57589.24\n"
     ]
    },
    {
     "name": "stdout",
     "output_type": "stream",
     "text": [
      "6300 \tMSE: 56545.58\n"
     ]
    },
    {
     "name": "stdout",
     "output_type": "stream",
     "text": [
      "6400 \tMSE: 55334.824\n"
     ]
    },
    {
     "name": "stdout",
     "output_type": "stream",
     "text": [
      "6500 \tMSE: 57856.457\n"
     ]
    },
    {
     "name": "stdout",
     "output_type": "stream",
     "text": [
      "6600 \tMSE: 56499.7\n"
     ]
    },
    {
     "name": "stdout",
     "output_type": "stream",
     "text": [
      "6700 \tMSE: 62024.887\n"
     ]
    },
    {
     "name": "stdout",
     "output_type": "stream",
     "text": [
      "6800 \tMSE: 55415.848\n"
     ]
    },
    {
     "name": "stdout",
     "output_type": "stream",
     "text": [
      "6900 \tMSE: 59669.766\n"
     ]
    },
    {
     "name": "stdout",
     "output_type": "stream",
     "text": [
      "7000 \tMSE: 56432.0\n"
     ]
    },
    {
     "name": "stdout",
     "output_type": "stream",
     "text": [
      "7100 \tMSE: 56284.62\n"
     ]
    },
    {
     "name": "stdout",
     "output_type": "stream",
     "text": [
      "7200 \tMSE: 55061.812\n"
     ]
    },
    {
     "name": "stdout",
     "output_type": "stream",
     "text": [
      "7300 \tMSE: 55373.57\n"
     ]
    },
    {
     "name": "stdout",
     "output_type": "stream",
     "text": [
      "7400 \tMSE: 53663.61\n"
     ]
    },
    {
     "name": "stdout",
     "output_type": "stream",
     "text": [
      "7500 \tMSE: 55475.594\n"
     ]
    },
    {
     "name": "stdout",
     "output_type": "stream",
     "text": [
      "7600 \tMSE: 52895.29\n"
     ]
    },
    {
     "name": "stdout",
     "output_type": "stream",
     "text": [
      "7700 \tMSE: 53283.074\n"
     ]
    },
    {
     "name": "stdout",
     "output_type": "stream",
     "text": [
      "7800 \tMSE: 56016.617\n"
     ]
    },
    {
     "name": "stdout",
     "output_type": "stream",
     "text": [
      "7900 \tMSE: 51197.246\n"
     ]
    },
    {
     "name": "stdout",
     "output_type": "stream",
     "text": [
      "8000 \tMSE: 55080.71\n"
     ]
    },
    {
     "name": "stdout",
     "output_type": "stream",
     "text": [
      "8100 \tMSE: 53071.496\n"
     ]
    },
    {
     "name": "stdout",
     "output_type": "stream",
     "text": [
      "8200 \tMSE: 51928.066\n"
     ]
    },
    {
     "name": "stdout",
     "output_type": "stream",
     "text": [
      "8300 \tMSE: 58745.023\n"
     ]
    },
    {
     "name": "stdout",
     "output_type": "stream",
     "text": [
      "8400 \tMSE: 50336.812\n"
     ]
    },
    {
     "name": "stdout",
     "output_type": "stream",
     "text": [
      "8500 \tMSE: 51799.71\n"
     ]
    },
    {
     "name": "stdout",
     "output_type": "stream",
     "text": [
      "8600 \tMSE: 63593.895\n"
     ]
    },
    {
     "name": "stdout",
     "output_type": "stream",
     "text": [
      "8700 \tMSE: 52047.355\n"
     ]
    },
    {
     "name": "stdout",
     "output_type": "stream",
     "text": [
      "8800 \tMSE: 52028.562\n"
     ]
    },
    {
     "name": "stdout",
     "output_type": "stream",
     "text": [
      "8900 \tMSE: 51008.938\n"
     ]
    },
    {
     "name": "stdout",
     "output_type": "stream",
     "text": [
      "9000 \tMSE: 49821.46\n"
     ]
    },
    {
     "name": "stdout",
     "output_type": "stream",
     "text": [
      "9100 \tMSE: 50432.8\n"
     ]
    },
    {
     "name": "stdout",
     "output_type": "stream",
     "text": [
      "9200 \tMSE: 53400.523\n"
     ]
    },
    {
     "name": "stdout",
     "output_type": "stream",
     "text": [
      "9300 \tMSE: 50702.223\n"
     ]
    },
    {
     "name": "stdout",
     "output_type": "stream",
     "text": [
      "9400 \tMSE: 53162.312\n"
     ]
    },
    {
     "name": "stdout",
     "output_type": "stream",
     "text": [
      "9500 \tMSE: 51233.246\n"
     ]
    },
    {
     "name": "stdout",
     "output_type": "stream",
     "text": [
      "9600 \tMSE: 46976.45\n"
     ]
    },
    {
     "name": "stdout",
     "output_type": "stream",
     "text": [
      "9700 \tMSE: 47183.4\n"
     ]
    },
    {
     "name": "stdout",
     "output_type": "stream",
     "text": [
      "9800 \tMSE: 49076.85\n"
     ]
    },
    {
     "name": "stdout",
     "output_type": "stream",
     "text": [
      "9900 \tMSE: 48852.53\n"
     ]
    },
    {
     "name": "stdout",
     "output_type": "stream",
     "text": [
      "[[[ 49.223423 ]\n  [ 56.724895 ]\n  [ 51.346058 ]\n  [ 43.39223  ]\n  [ 40.883434 ]\n  [ 45.957085 ]\n  [ 41.90487  ]\n  [ 38.489925 ]\n  [ 39.933693 ]\n  [ 36.098736 ]\n  [ 31.230974 ]\n  [ 27.343304 ]\n  [ 23.068493 ]\n  [ 15.502531 ]\n  [  4.3889093]\n  [  4.2539215]\n  [  4.2259064]\n  [  8.10966  ]\n  [  4.116267 ]\n  [ -5.9704437]\n  [ -7.6050477]\n  [-13.664618 ]\n  [ -9.9396515]\n  [-15.319541 ]\n  [ -7.7398634]\n  [-13.97419  ]\n  [-10.15637  ]\n  [ -0.6401444]\n  [  3.1635768]\n  [  2.9632697]\n  [  5.6238146]\n  [  2.9105372]\n  [ -7.003888 ]\n  [  2.090541 ]\n  [  6.2329745]\n  [ 10.235571 ]\n  [  7.0491176]\n  [ 11.097153 ]\n  [  7.5433965]\n  [ 14.848516 ]\n  [ 11.239498 ]\n  [ 11.311307 ]\n  [  3.1839967]\n  [ -2.432776 ]\n  [-12.073398 ]\n  [-12.532767 ]\n  [-13.341652 ]\n  [-19.838552 ]\n  [-29.641539 ]\n  [-35.46076  ]]]\n"
     ]
    }
   ],
   "source": [
    "epochs = 10000\n",
    "\n",
    "with tf.Session() as sess:\n",
    "    init.run()\n",
    "    for ep in range(epochs):\n",
    "        sess.run(training_op, feed_dict={x: x_batches, y: y_batches})\n",
    "        if ep % 100 == 0:\n",
    "            mse = loss.eval(feed_dict={x: x_batches, y: y_batches})\n",
    "            print(ep, \"\\tMSE:\", mse)\n",
    "    \n",
    "    y_pred = sess.run(outputs, feed_dict={x: X_test})\n",
    "    print(y_pred)"
   ]
  },
  {
   "cell_type": "code",
   "execution_count": 65,
   "metadata": {},
   "outputs": [
    {
     "data": {
      "image/png": "[encoded data removed]",
      "text/plain": [
       "<Figure size 432x288 with 1 Axes>"
      ]
     },
     "metadata": {},
     "output_type": "display_data"
    }
   ],
   "source": [
    "plt.title(\"Forecast vs Actual\", fontsize=14)\n",
    "plt.plot(pd.Series(np.ravel(Y_test)), \"bo\", markersize=10, label=\"Actual\")\n",
    "plt.plot(pd.Series(np.ravel(y_pred)), \"r.\", markersize=10, label=\"Forecast\")\n",
    "plt.legend(loc=\"upper left\")\n",
    "plt.xlabel(\"Time Periods\")\n",
    "\n",
    "plt.show()"
   ]
  },
  {
   "cell_type": "code",
   "execution_count": null,
   "metadata": {},
   "outputs": [],
   "source": []
  }
 ],
 "metadata": {
  "kernelspec": {
   "display_name": "Python 2",
   "language": "python",
   "name": "python2"
  },
  "language_info": {
   "codemirror_mode": {
    "name": "ipython",
    "version": 2
   },
   "file_extension": ".py",
   "mimetype": "text/x-python",
   "name": "python",
   "nbconvert_exporter": "python",
   "pygments_lexer": "ipython2",
   "version": "2.7.6"
  }
 },
 "nbformat": 4,
 "nbformat_minor": 0
}
